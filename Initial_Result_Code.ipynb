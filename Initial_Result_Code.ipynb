{
  "nbformat": 4,
  "nbformat_minor": 0,
  "metadata": {
    "colab": {
      "provenance": [],
      "authorship_tag": "ABX9TyO9loU/0ct9QW0a3lFyev3S",
      "include_colab_link": true
    },
    "kernelspec": {
      "name": "python3",
      "display_name": "Python 3"
    },
    "language_info": {
      "name": "python"
    }
  },
  "cells": [
    {
      "cell_type": "markdown",
      "metadata": {
        "id": "view-in-github",
        "colab_type": "text"
      },
      "source": [
        "<a href=\"https://colab.research.google.com/github/00000012-x/github_capstoneProject/blob/main/Initial_Result_Code.ipynb\" target=\"_parent\"><img src=\"https://colab.research.google.com/assets/colab-badge.svg\" alt=\"Open In Colab\"/></a>"
      ]
    },
    {
      "cell_type": "code",
      "execution_count": null,
      "metadata": {
        "id": "HOUaHvFqcyzw"
      },
      "outputs": [],
      "source": [
        "import pandas as pd\n",
        "import numpy as np\n",
        "import matplotlib.pyplot as plt"
      ]
    },
    {
      "cell_type": "code",
      "source": [
        "df = pd.read_csv('/content/sample_data/MyDrive/Dataset/Compiled_COVID-19_Case_Details_(Canada).csv')"
      ],
      "metadata": {
        "id": "0nBAvPvtdKAb"
      },
      "execution_count": null,
      "outputs": []
    },
    {
      "cell_type": "code",
      "source": [
        "df.shape"
      ],
      "metadata": {
        "colab": {
          "base_uri": "https://localhost:8080/"
        },
        "id": "J1-zAXu4diyT",
        "outputId": "f9077f08-0fe1-497d-ee32-9f705b166e24"
      },
      "execution_count": null,
      "outputs": [
        {
          "output_type": "execute_result",
          "data": {
            "text/plain": [
              "(106374, 13)"
            ]
          },
          "metadata": {},
          "execution_count": 5
        }
      ]
    },
    {
      "cell_type": "code",
      "source": [
        "df.columns"
      ],
      "metadata": {
        "colab": {
          "base_uri": "https://localhost:8080/"
        },
        "id": "fxLkDyXCdmT1",
        "outputId": "585682e7-765c-4e52-d608-70ed1ef1b270"
      },
      "execution_count": null,
      "outputs": [
        {
          "output_type": "execute_result",
          "data": {
            "text/plain": [
              "Index(['ObjectId', 'row_id', 'date_reported', 'health_region', 'age_group',\n",
              "       'gender', 'exposure', 'case_status', 'latitude', 'longitude',\n",
              "       'province', 'province_abbr', 'hr_uid'],\n",
              "      dtype='object')"
            ]
          },
          "metadata": {},
          "execution_count": 6
        }
      ]
    },
    {
      "cell_type": "code",
      "source": [
        "print(df.dtypes)"
      ],
      "metadata": {
        "colab": {
          "base_uri": "https://localhost:8080/"
        },
        "id": "DTg8MkwPeU-Q",
        "outputId": "60e7d5fe-95b1-42da-83d0-4936d76e8f54"
      },
      "execution_count": null,
      "outputs": [
        {
          "output_type": "stream",
          "name": "stdout",
          "text": [
            "ObjectId           int64\n",
            "row_id             int64\n",
            "date_reported     object\n",
            "health_region     object\n",
            "age_group         object\n",
            "gender            object\n",
            "exposure          object\n",
            "case_status       object\n",
            "latitude         float64\n",
            "longitude        float64\n",
            "province          object\n",
            "province_abbr     object\n",
            "hr_uid           float64\n",
            "dtype: object\n"
          ]
        }
      ]
    },
    {
      "cell_type": "markdown",
      "source": [
        "checking the dataset for an missing varuables"
      ],
      "metadata": {
        "id": "UQ1I5Kpdemhb"
      }
    },
    {
      "cell_type": "code",
      "source": [
        "df.isna().any().any()"
      ],
      "metadata": {
        "colab": {
          "base_uri": "https://localhost:8080/"
        },
        "id": "1yAoV7dbetXL",
        "outputId": "b072ab42-033e-43f3-ad60-d8a0f393b294"
      },
      "execution_count": null,
      "outputs": [
        {
          "output_type": "execute_result",
          "data": {
            "text/plain": [
              "True"
            ]
          },
          "metadata": {},
          "execution_count": 8
        }
      ]
    },
    {
      "cell_type": "code",
      "source": [
        "df.isnull().sum()"
      ],
      "metadata": {
        "colab": {
          "base_uri": "https://localhost:8080/"
        },
        "id": "pyROe1UDfSjY",
        "outputId": "10b8a334-0982-4935-d0dd-02aedd154b73"
      },
      "execution_count": null,
      "outputs": [
        {
          "output_type": "execute_result",
          "data": {
            "text/plain": [
              "ObjectId         0\n",
              "row_id           0\n",
              "date_reported    0\n",
              "health_region    0\n",
              "age_group        1\n",
              "gender           1\n",
              "exposure         1\n",
              "case_status      1\n",
              "latitude         1\n",
              "longitude        1\n",
              "province         1\n",
              "province_abbr    1\n",
              "hr_uid           1\n",
              "dtype: int64"
            ]
          },
          "metadata": {},
          "execution_count": 9
        }
      ]
    },
    {
      "cell_type": "code",
      "source": [
        "# Fill missing values with the mean for numerical columns\n",
        "df['latitude'].fillna(df['latitude'].mean(), inplace=True)\n",
        "df['longitude'].fillna(df['longitude'].mean(), inplace=True)\n",
        "\n",
        "# Fill missing values with the mode for categorical column\n",
        "df['hr_uid'].fillna(df['hr_uid'].mode().iloc[0], inplace=True)"
      ],
      "metadata": {
        "id": "cQbatXsQfx53"
      },
      "execution_count": null,
      "outputs": []
    },
    {
      "cell_type": "markdown",
      "source": [
        " Regarding why mean is used for numerical columns instead of median, it's a matter of choice and context\n"
      ],
      "metadata": {
        "id": "xTtaOmw0TM_r"
      }
    },
    {
      "cell_type": "code",
      "source": [
        "df.isnull().sum()"
      ],
      "metadata": {
        "colab": {
          "base_uri": "https://localhost:8080/"
        },
        "id": "89k_ga3hfzJU",
        "outputId": "4bda370a-cab0-4aa3-dba1-c2d8696a7d22"
      },
      "execution_count": null,
      "outputs": [
        {
          "output_type": "execute_result",
          "data": {
            "text/plain": [
              "ObjectId         0\n",
              "row_id           0\n",
              "date_reported    0\n",
              "health_region    0\n",
              "age_group        1\n",
              "gender           1\n",
              "exposure         1\n",
              "case_status      1\n",
              "latitude         0\n",
              "longitude        0\n",
              "province         1\n",
              "province_abbr    1\n",
              "hr_uid           0\n",
              "dtype: int64"
            ]
          },
          "metadata": {},
          "execution_count": 11
        }
      ]
    },
    {
      "cell_type": "markdown",
      "source": [
        "checking for any duplicates"
      ],
      "metadata": {
        "id": "5QoHTsw_f8sO"
      }
    },
    {
      "cell_type": "code",
      "source": [
        "df.drop_duplicates(inplace=True)"
      ],
      "metadata": {
        "id": "GpZLqnjqgN1n"
      },
      "execution_count": null,
      "outputs": []
    },
    {
      "cell_type": "markdown",
      "source": [
        "Compute descriptive statistics"
      ],
      "metadata": {
        "id": "2ixutUz2gxEL"
      }
    },
    {
      "cell_type": "code",
      "source": [
        "df.describe()"
      ],
      "metadata": {
        "colab": {
          "base_uri": "https://localhost:8080/",
          "height": 300
        },
        "id": "807A1EpSg0WU",
        "outputId": "e18bdfd1-5c38-48f4-e983-ca1097170653"
      },
      "execution_count": null,
      "outputs": [
        {
          "output_type": "execute_result",
          "data": {
            "text/plain": [
              "            ObjectId         row_id       latitude      longitude  \\\n",
              "count  106374.000000  106374.000000  106374.000000  106374.000000   \n",
              "mean    53187.500000   53195.020719      43.876633     -79.594186   \n",
              "std     30707.673105   30722.434152       0.999811       1.743926   \n",
              "min         1.000000       0.000000      42.156423     -92.553456   \n",
              "25%     26594.250000   26593.250000      43.512097     -79.890508   \n",
              "50%     53187.500000   53186.500000      43.761613     -79.813571   \n",
              "75%     79780.750000   79779.750000      44.074977     -79.389558   \n",
              "max    106374.000000  107499.000000      52.397247     -74.952579   \n",
              "\n",
              "              hr_uid  \n",
              "count  106374.000000  \n",
              "mean     3555.570694  \n",
              "std        15.128585  \n",
              "min      3526.000000  \n",
              "25%      3551.000000  \n",
              "50%      3553.000000  \n",
              "75%      3566.000000  \n",
              "max      3595.000000  "
            ],
            "text/html": [
              "\n",
              "  <div id=\"df-a1d26f00-d102-4c47-bd6c-3f77d9c88340\" class=\"colab-df-container\">\n",
              "    <div>\n",
              "<style scoped>\n",
              "    .dataframe tbody tr th:only-of-type {\n",
              "        vertical-align: middle;\n",
              "    }\n",
              "\n",
              "    .dataframe tbody tr th {\n",
              "        vertical-align: top;\n",
              "    }\n",
              "\n",
              "    .dataframe thead th {\n",
              "        text-align: right;\n",
              "    }\n",
              "</style>\n",
              "<table border=\"1\" class=\"dataframe\">\n",
              "  <thead>\n",
              "    <tr style=\"text-align: right;\">\n",
              "      <th></th>\n",
              "      <th>ObjectId</th>\n",
              "      <th>row_id</th>\n",
              "      <th>latitude</th>\n",
              "      <th>longitude</th>\n",
              "      <th>hr_uid</th>\n",
              "    </tr>\n",
              "  </thead>\n",
              "  <tbody>\n",
              "    <tr>\n",
              "      <th>count</th>\n",
              "      <td>106374.000000</td>\n",
              "      <td>106374.000000</td>\n",
              "      <td>106374.000000</td>\n",
              "      <td>106374.000000</td>\n",
              "      <td>106374.000000</td>\n",
              "    </tr>\n",
              "    <tr>\n",
              "      <th>mean</th>\n",
              "      <td>53187.500000</td>\n",
              "      <td>53195.020719</td>\n",
              "      <td>43.876633</td>\n",
              "      <td>-79.594186</td>\n",
              "      <td>3555.570694</td>\n",
              "    </tr>\n",
              "    <tr>\n",
              "      <th>std</th>\n",
              "      <td>30707.673105</td>\n",
              "      <td>30722.434152</td>\n",
              "      <td>0.999811</td>\n",
              "      <td>1.743926</td>\n",
              "      <td>15.128585</td>\n",
              "    </tr>\n",
              "    <tr>\n",
              "      <th>min</th>\n",
              "      <td>1.000000</td>\n",
              "      <td>0.000000</td>\n",
              "      <td>42.156423</td>\n",
              "      <td>-92.553456</td>\n",
              "      <td>3526.000000</td>\n",
              "    </tr>\n",
              "    <tr>\n",
              "      <th>25%</th>\n",
              "      <td>26594.250000</td>\n",
              "      <td>26593.250000</td>\n",
              "      <td>43.512097</td>\n",
              "      <td>-79.890508</td>\n",
              "      <td>3551.000000</td>\n",
              "    </tr>\n",
              "    <tr>\n",
              "      <th>50%</th>\n",
              "      <td>53187.500000</td>\n",
              "      <td>53186.500000</td>\n",
              "      <td>43.761613</td>\n",
              "      <td>-79.813571</td>\n",
              "      <td>3553.000000</td>\n",
              "    </tr>\n",
              "    <tr>\n",
              "      <th>75%</th>\n",
              "      <td>79780.750000</td>\n",
              "      <td>79779.750000</td>\n",
              "      <td>44.074977</td>\n",
              "      <td>-79.389558</td>\n",
              "      <td>3566.000000</td>\n",
              "    </tr>\n",
              "    <tr>\n",
              "      <th>max</th>\n",
              "      <td>106374.000000</td>\n",
              "      <td>107499.000000</td>\n",
              "      <td>52.397247</td>\n",
              "      <td>-74.952579</td>\n",
              "      <td>3595.000000</td>\n",
              "    </tr>\n",
              "  </tbody>\n",
              "</table>\n",
              "</div>\n",
              "    <div class=\"colab-df-buttons\">\n",
              "\n",
              "  <div class=\"colab-df-container\">\n",
              "    <button class=\"colab-df-convert\" onclick=\"convertToInteractive('df-a1d26f00-d102-4c47-bd6c-3f77d9c88340')\"\n",
              "            title=\"Convert this dataframe to an interactive table.\"\n",
              "            style=\"display:none;\">\n",
              "\n",
              "  <svg xmlns=\"http://www.w3.org/2000/svg\" height=\"24px\" viewBox=\"0 -960 960 960\">\n",
              "    <path d=\"M120-120v-720h720v720H120Zm60-500h600v-160H180v160Zm220 220h160v-160H400v160Zm0 220h160v-160H400v160ZM180-400h160v-160H180v160Zm440 0h160v-160H620v160ZM180-180h160v-160H180v160Zm440 0h160v-160H620v160Z\"/>\n",
              "  </svg>\n",
              "    </button>\n",
              "\n",
              "  <style>\n",
              "    .colab-df-container {\n",
              "      display:flex;\n",
              "      gap: 12px;\n",
              "    }\n",
              "\n",
              "    .colab-df-convert {\n",
              "      background-color: #E8F0FE;\n",
              "      border: none;\n",
              "      border-radius: 50%;\n",
              "      cursor: pointer;\n",
              "      display: none;\n",
              "      fill: #1967D2;\n",
              "      height: 32px;\n",
              "      padding: 0 0 0 0;\n",
              "      width: 32px;\n",
              "    }\n",
              "\n",
              "    .colab-df-convert:hover {\n",
              "      background-color: #E2EBFA;\n",
              "      box-shadow: 0px 1px 2px rgba(60, 64, 67, 0.3), 0px 1px 3px 1px rgba(60, 64, 67, 0.15);\n",
              "      fill: #174EA6;\n",
              "    }\n",
              "\n",
              "    .colab-df-buttons div {\n",
              "      margin-bottom: 4px;\n",
              "    }\n",
              "\n",
              "    [theme=dark] .colab-df-convert {\n",
              "      background-color: #3B4455;\n",
              "      fill: #D2E3FC;\n",
              "    }\n",
              "\n",
              "    [theme=dark] .colab-df-convert:hover {\n",
              "      background-color: #434B5C;\n",
              "      box-shadow: 0px 1px 3px 1px rgba(0, 0, 0, 0.15);\n",
              "      filter: drop-shadow(0px 1px 2px rgba(0, 0, 0, 0.3));\n",
              "      fill: #FFFFFF;\n",
              "    }\n",
              "  </style>\n",
              "\n",
              "    <script>\n",
              "      const buttonEl =\n",
              "        document.querySelector('#df-a1d26f00-d102-4c47-bd6c-3f77d9c88340 button.colab-df-convert');\n",
              "      buttonEl.style.display =\n",
              "        google.colab.kernel.accessAllowed ? 'block' : 'none';\n",
              "\n",
              "      async function convertToInteractive(key) {\n",
              "        const element = document.querySelector('#df-a1d26f00-d102-4c47-bd6c-3f77d9c88340');\n",
              "        const dataTable =\n",
              "          await google.colab.kernel.invokeFunction('convertToInteractive',\n",
              "                                                    [key], {});\n",
              "        if (!dataTable) return;\n",
              "\n",
              "        const docLinkHtml = 'Like what you see? Visit the ' +\n",
              "          '<a target=\"_blank\" href=https://colab.research.google.com/notebooks/data_table.ipynb>data table notebook</a>'\n",
              "          + ' to learn more about interactive tables.';\n",
              "        element.innerHTML = '';\n",
              "        dataTable['output_type'] = 'display_data';\n",
              "        await google.colab.output.renderOutput(dataTable, element);\n",
              "        const docLink = document.createElement('div');\n",
              "        docLink.innerHTML = docLinkHtml;\n",
              "        element.appendChild(docLink);\n",
              "      }\n",
              "    </script>\n",
              "  </div>\n",
              "\n",
              "\n",
              "<div id=\"df-2c83376d-f157-4f35-842a-df3eaffbada4\">\n",
              "  <button class=\"colab-df-quickchart\" onclick=\"quickchart('df-2c83376d-f157-4f35-842a-df3eaffbada4')\"\n",
              "            title=\"Suggest charts\"\n",
              "            style=\"display:none;\">\n",
              "\n",
              "<svg xmlns=\"http://www.w3.org/2000/svg\" height=\"24px\"viewBox=\"0 0 24 24\"\n",
              "     width=\"24px\">\n",
              "    <g>\n",
              "        <path d=\"M19 3H5c-1.1 0-2 .9-2 2v14c0 1.1.9 2 2 2h14c1.1 0 2-.9 2-2V5c0-1.1-.9-2-2-2zM9 17H7v-7h2v7zm4 0h-2V7h2v10zm4 0h-2v-4h2v4z\"/>\n",
              "    </g>\n",
              "</svg>\n",
              "  </button>\n",
              "\n",
              "<style>\n",
              "  .colab-df-quickchart {\n",
              "      --bg-color: #E8F0FE;\n",
              "      --fill-color: #1967D2;\n",
              "      --hover-bg-color: #E2EBFA;\n",
              "      --hover-fill-color: #174EA6;\n",
              "      --disabled-fill-color: #AAA;\n",
              "      --disabled-bg-color: #DDD;\n",
              "  }\n",
              "\n",
              "  [theme=dark] .colab-df-quickchart {\n",
              "      --bg-color: #3B4455;\n",
              "      --fill-color: #D2E3FC;\n",
              "      --hover-bg-color: #434B5C;\n",
              "      --hover-fill-color: #FFFFFF;\n",
              "      --disabled-bg-color: #3B4455;\n",
              "      --disabled-fill-color: #666;\n",
              "  }\n",
              "\n",
              "  .colab-df-quickchart {\n",
              "    background-color: var(--bg-color);\n",
              "    border: none;\n",
              "    border-radius: 50%;\n",
              "    cursor: pointer;\n",
              "    display: none;\n",
              "    fill: var(--fill-color);\n",
              "    height: 32px;\n",
              "    padding: 0;\n",
              "    width: 32px;\n",
              "  }\n",
              "\n",
              "  .colab-df-quickchart:hover {\n",
              "    background-color: var(--hover-bg-color);\n",
              "    box-shadow: 0 1px 2px rgba(60, 64, 67, 0.3), 0 1px 3px 1px rgba(60, 64, 67, 0.15);\n",
              "    fill: var(--button-hover-fill-color);\n",
              "  }\n",
              "\n",
              "  .colab-df-quickchart-complete:disabled,\n",
              "  .colab-df-quickchart-complete:disabled:hover {\n",
              "    background-color: var(--disabled-bg-color);\n",
              "    fill: var(--disabled-fill-color);\n",
              "    box-shadow: none;\n",
              "  }\n",
              "\n",
              "  .colab-df-spinner {\n",
              "    border: 2px solid var(--fill-color);\n",
              "    border-color: transparent;\n",
              "    border-bottom-color: var(--fill-color);\n",
              "    animation:\n",
              "      spin 1s steps(1) infinite;\n",
              "  }\n",
              "\n",
              "  @keyframes spin {\n",
              "    0% {\n",
              "      border-color: transparent;\n",
              "      border-bottom-color: var(--fill-color);\n",
              "      border-left-color: var(--fill-color);\n",
              "    }\n",
              "    20% {\n",
              "      border-color: transparent;\n",
              "      border-left-color: var(--fill-color);\n",
              "      border-top-color: var(--fill-color);\n",
              "    }\n",
              "    30% {\n",
              "      border-color: transparent;\n",
              "      border-left-color: var(--fill-color);\n",
              "      border-top-color: var(--fill-color);\n",
              "      border-right-color: var(--fill-color);\n",
              "    }\n",
              "    40% {\n",
              "      border-color: transparent;\n",
              "      border-right-color: var(--fill-color);\n",
              "      border-top-color: var(--fill-color);\n",
              "    }\n",
              "    60% {\n",
              "      border-color: transparent;\n",
              "      border-right-color: var(--fill-color);\n",
              "    }\n",
              "    80% {\n",
              "      border-color: transparent;\n",
              "      border-right-color: var(--fill-color);\n",
              "      border-bottom-color: var(--fill-color);\n",
              "    }\n",
              "    90% {\n",
              "      border-color: transparent;\n",
              "      border-bottom-color: var(--fill-color);\n",
              "    }\n",
              "  }\n",
              "</style>\n",
              "\n",
              "  <script>\n",
              "    async function quickchart(key) {\n",
              "      const quickchartButtonEl =\n",
              "        document.querySelector('#' + key + ' button');\n",
              "      quickchartButtonEl.disabled = true;  // To prevent multiple clicks.\n",
              "      quickchartButtonEl.classList.add('colab-df-spinner');\n",
              "      try {\n",
              "        const charts = await google.colab.kernel.invokeFunction(\n",
              "            'suggestCharts', [key], {});\n",
              "      } catch (error) {\n",
              "        console.error('Error during call to suggestCharts:', error);\n",
              "      }\n",
              "      quickchartButtonEl.classList.remove('colab-df-spinner');\n",
              "      quickchartButtonEl.classList.add('colab-df-quickchart-complete');\n",
              "    }\n",
              "    (() => {\n",
              "      let quickchartButtonEl =\n",
              "        document.querySelector('#df-2c83376d-f157-4f35-842a-df3eaffbada4 button');\n",
              "      quickchartButtonEl.style.display =\n",
              "        google.colab.kernel.accessAllowed ? 'block' : 'none';\n",
              "    })();\n",
              "  </script>\n",
              "</div>\n",
              "\n",
              "    </div>\n",
              "  </div>\n"
            ],
            "application/vnd.google.colaboratory.intrinsic+json": {
              "type": "dataframe",
              "summary": "{\n  \"name\": \"df\",\n  \"rows\": 8,\n  \"fields\": [\n    {\n      \"column\": \"ObjectId\",\n      \"properties\": {\n        \"dtype\": \"number\",\n        \"std\": 38337.3994637038,\n        \"min\": 1.0,\n        \"max\": 106374.0,\n        \"num_unique_values\": 6,\n        \"samples\": [\n          106374.0,\n          53187.5,\n          79780.75\n        ],\n        \"semantic_type\": \"\",\n        \"description\": \"\"\n      }\n    },\n    {\n      \"column\": \"row_id\",\n      \"properties\": {\n        \"dtype\": \"number\",\n        \"std\": 38544.46718089865,\n        \"min\": 0.0,\n        \"max\": 107499.0,\n        \"num_unique_values\": 8,\n        \"samples\": [\n          53195.020719348715,\n          53186.5,\n          106374.0\n        ],\n        \"semantic_type\": \"\",\n        \"description\": \"\"\n      }\n    },\n    {\n      \"column\": \"latitude\",\n      \"properties\": {\n        \"dtype\": \"number\",\n        \"std\": 37595.215254218194,\n        \"min\": 0.9998109925545141,\n        \"max\": 106374.0,\n        \"num_unique_values\": 8,\n        \"samples\": [\n          43.8766330244104,\n          43.7616133679858,\n          106374.0\n        ],\n        \"semantic_type\": \"\",\n        \"description\": \"\"\n      }\n    },\n    {\n      \"column\": \"longitude\",\n      \"properties\": {\n        \"dtype\": \"number\",\n        \"std\": 37633.36827109796,\n        \"min\": -92.5534558325331,\n        \"max\": 106374.0,\n        \"num_unique_values\": 8,\n        \"samples\": [\n          -79.5941861107412,\n          -79.8135709174832,\n          106374.0\n        ],\n        \"semantic_type\": \"\",\n        \"description\": \"\"\n      }\n    },\n    {\n      \"column\": \"hr_uid\",\n      \"properties\": {\n        \"dtype\": \"number\",\n        \"std\": 36550.99284568811,\n        \"min\": 15.128585289933847,\n        \"max\": 106374.0,\n        \"num_unique_values\": 8,\n        \"samples\": [\n          3555.5706939665706,\n          3553.0,\n          106374.0\n        ],\n        \"semantic_type\": \"\",\n        \"description\": \"\"\n      }\n    }\n  ]\n}"
            }
          },
          "metadata": {},
          "execution_count": 13
        }
      ]
    },
    {
      "cell_type": "markdown",
      "source": [
        "Visualize distributions"
      ],
      "metadata": {
        "id": "ouAERf94g4oR"
      }
    },
    {
      "cell_type": "code",
      "source": [
        "plt.figure(figsize=(10, 6))"
      ],
      "metadata": {
        "colab": {
          "base_uri": "https://localhost:8080/",
          "height": 53
        },
        "id": "sXvY9l9hg8IR",
        "outputId": "3d8df087-fe04-41a3-f357-646dfdc3c24e"
      },
      "execution_count": null,
      "outputs": [
        {
          "output_type": "execute_result",
          "data": {
            "text/plain": [
              "<Figure size 1000x600 with 0 Axes>"
            ]
          },
          "metadata": {},
          "execution_count": 14
        },
        {
          "output_type": "display_data",
          "data": {
            "text/plain": [
              "<Figure size 1000x600 with 0 Axes>"
            ]
          },
          "metadata": {}
        }
      ]
    },
    {
      "cell_type": "code",
      "source": [
        "# Load the dataset into a DataFrame\n",
        "file_path = '/content/sample_data/MyDrive/Dataset/Compiled_COVID-19_Case_Details_(Canada).csv'\n",
        "covid_data = pd.read_csv(file_path)\n",
        "\n",
        "# Plot the distribution of cases based on the 'case_status' column\n",
        "plt.figure(figsize=(10, 6))\n",
        "plt.hist(covid_data['case_status'], color='skyblue', edgecolor='black', alpha=0.7)\n",
        "plt.xlabel('Case Status')\n",
        "plt.ylabel('Frequency')\n",
        "plt.title('Distribution of Cases by Case Status')\n",
        "plt.grid(True)"
      ],
      "metadata": {
        "colab": {
          "base_uri": "https://localhost:8080/",
          "height": 564
        },
        "id": "L5_qpTrWhAhC",
        "outputId": "8668be9d-f18c-4f6b-c2ee-dd54c6aefc81"
      },
      "execution_count": null,
      "outputs": [
        {
          "output_type": "display_data",
          "data": {
            "text/plain": [
              "<Figure size 1000x600 with 1 Axes>"
            ],
            "image/png": "[encoded data removed]"
          },
          "metadata": {}
        }
      ]
    },
    {
      "cell_type": "code",
      "source": [
        "# Checking the number of cases in each type\n",
        "\n",
        "df['case_status'].value_counts()"
      ],
      "metadata": {
        "colab": {
          "base_uri": "https://localhost:8080/"
        },
        "id": "2KpTXP4mhMap",
        "outputId": "7ce21fb5-2867-43fa-fe58-addfac10ed8f"
      },
      "execution_count": null,
      "outputs": [
        {
          "output_type": "execute_result",
          "data": {
            "text/plain": [
              "Recovered    102894\n",
              "Deceased       3476\n",
              "Active            3\n",
              "Name: case_status, dtype: int64"
            ]
          },
          "metadata": {},
          "execution_count": 16
        }
      ]
    },
    {
      "cell_type": "code",
      "source": [
        "# Counts of each case status\n",
        "counts = [734591, 622992, 16266, 11032]\n",
        "\n",
        "# Labels for the case statuses\n",
        "labels = ['Recovered', 'Not Reported', 'Active', 'Deceased']\n",
        "\n",
        "# Colors for the pie chart\n",
        "colors = ['#FF9999', '#66B2FF', '#99FF99', '#FFCC99']\n",
        "\n",
        "# Explode a slice if it is 'Active' or 'Deceased'\n",
        "explode = (0, 0, 0.1, 0.1)\n",
        "\n",
        "# Creating the pie chart\n",
        "plt.figure(figsize=(8, 8))\n",
        "plt.pie(counts, labels=labels, colors=colors, explode=explode, autopct='%1.1f%%', startangle=140)\n",
        "plt.title('Distribution of Case Statuses')\n",
        "plt.axis('equal')  # Equal aspect ratio ensures that pie is drawn as a circle.\n",
        "\n",
        "# Showing the pie chart\n",
        "plt.show()"
      ],
      "metadata": {
        "colab": {
          "base_uri": "https://localhost:8080/",
          "height": 675
        },
        "id": "MDL8qHK0hy0-",
        "outputId": "0ed8d2af-8791-490d-84ca-24537f2042c6"
      },
      "execution_count": null,
      "outputs": [
        {
          "output_type": "display_data",
          "data": {
            "text/plain": [
              "<Figure size 800x800 with 1 Axes>"
            ],
            "image/png": "[encoded data removed]"
          },
          "metadata": {}
        }
      ]
    },
    {
      "cell_type": "code",
      "source": [
        "# Load the dataset into a DataFrame\n",
        "file_path = '/content/sample_data/MyDrive/Dataset/Compiled_COVID-19_Case_Details_(Canada).csv'\n",
        "covid_data = pd.read_csv(file_path)\n",
        "\n",
        "# Filter the DataFrame for deceased cases and exclude 'Not Reported' age group\n",
        "deceased_data = covid_data[(covid_data['case_status'] == 'Deceased') & (covid_data['age_group'] != 'Not Reported')]\n",
        "\n",
        "# Plot the distribution of deceased cases based on the 'age_group' column\n",
        "plt.figure(figsize=(10, 6))\n",
        "deceased_data['age_group'].value_counts().plot(kind='bar', color='salmon', edgecolor='black')\n",
        "plt.xlabel('Age Group')\n",
        "plt.ylabel('Frequency')\n",
        "plt.title('Distribution of Deceased Cases by Age Group (Excluding \"Not Reported\")')\n",
        "plt.grid(axis='y')\n",
        "plt.xticks(rotation=45, ha='right')  # Rotate x-axis labels for better readability\n",
        "plt.tight_layout()\n",
        "plt.show()"
      ],
      "metadata": {
        "colab": {
          "base_uri": "https://localhost:8080/",
          "height": 607
        },
        "id": "ZpddIJQ8mklS",
        "outputId": "1c36fcf5-9a08-49cc-8f6b-551bb2f6fe0d"
      },
      "execution_count": null,
      "outputs": [
        {
          "output_type": "display_data",
          "data": {
            "text/plain": [
              "<Figure size 1000x600 with 1 Axes>"
            ],
            "image/png": "[encoded data removed]"
          },
          "metadata": {}
        }
      ]
    },
    {
      "cell_type": "code",
      "source": [
        "# Filter the DataFrame for deceased cases and exclude 'Not Reported' age group\n",
        "deceased_data = df[(df['case_status'] == 'Deceased') & (df['age_group'] != 'Not Reported')]\n",
        "\n",
        "# Check the distribution of deceased cases by age group\n",
        "deceased_by_age = deceased_data['age_group'].value_counts()\n",
        "print(deceased_by_age)"
      ],
      "metadata": {
        "colab": {
          "base_uri": "https://localhost:8080/"
        },
        "id": "JwX_rHanogrN",
        "outputId": "82d1047b-d656-4edb-b297-c0b9258140b9"
      },
      "execution_count": null,
      "outputs": [
        {
          "output_type": "stream",
          "name": "stdout",
          "text": [
            "80+      1279\n",
            "70-79     635\n",
            "60-69     272\n",
            "50-59     103\n",
            "40-49      30\n",
            "30-39      10\n",
            "20-29       5\n",
            "Name: age_group, dtype: int64\n"
          ]
        }
      ]
    }
  ]
}